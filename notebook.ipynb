{
 "cells": [
  {
   "cell_type": "markdown",
   "metadata": {},
   "source": [
    "# Notebook 699: Tarea calificada 2, INAR 23-24\n",
    "\n",
    "## Generación de texto seq2seq model\n",
    "## A partir de textos de parlamentarios españoles (anteriores a 2022)"
   ]
  },
  {
   "cell_type": "markdown",
   "metadata": {},
   "source": [
    "## Nota importante\n",
    "\n",
    "Esta tarea en su versión 2023-24 surge del excelente trabajo de varios compañeros del curso 2022-23, que aunque yo proporcioné un dataset de textos a partir de las intervenciones de parlamentarios (los líderes de varios partidos en 2021-22, alguno de los cuales ya no está en la política española), hicieron un extraordinario \"escrapeo\" de la web del Congreso de los Diputados y enriquecieron de forma notable el dataset. Este es el que propongo para esta tarea.\n",
    "\n",
    "Debo decir que si hay un texto (o lenguaje natural) libre de derechos y especialmente actual, son las intervenciones (estrictamente **públicas**) de los representantes elegidos en elecciones, y que el Congreso debería facilitar, no ya para su uso en estas tareas, sino para cualquier estudioso del español, o de la política, o de la psicología de los políticos.\n",
    "\n",
    "Por supuesto, esto son opiniones estrictamete mías, en el momento concreto en que las escribo, y sencillamente quiero hacer homenaje a los que colaboraron tanto con este trabajo que espero encontréis interesante."
   ]
  },
  {
   "cell_type": "markdown",
   "metadata": {},
   "source": [
    "## ¿De qué trata esta tarea?\n",
    "\n",
    "Pues ni más ni menos que de generar texto en español a partir de texto de parlamentarios, basado en el tutorial que hemos seguido en clase:\n",
    "\n",
    "https://www.tensorflow.org/text/tutorials/text_generation?hl=es-419\n",
    "\n",
    "Para facilitar la tarea se propone un pre-proceso (basado en la tarea 2021-22), y la tarea se concreta en el modelo para generar texto y en las pruebas de la calidad del texto generado.\n"
   ]
  },
  {
   "cell_type": "markdown",
   "metadata": {},
   "source": [
    "## Calificación\n",
    "\n",
    "Está explicada en la entrada correspondiente de Blackboard. Básicamente, hay un mínimo que consiste en proponer tres modelos de red recurrente, uno para cada parlamentario, entrenarlos, y **evaluarlos** generando texto y comentando su calidad.\n",
    "\n",
    "Para llegar a la máxima nota, propongo poner a dialogar los tres modelos.\n",
    "\n",
    "Pero por supuesto, valoraré el trabajo de construcción del modelo. Para esta tarea no hay una \"medida\" como la accuracy en la tarea 1. Será relativamente subjetiva. Por eso parece aconsejable comenzar con modelos pequeños o con pocas etapas e ir refinando."
   ]
  },
  {
   "cell_type": "markdown",
   "metadata": {
    "id": "srXC6pLGLwS6"
   },
   "source": [
    "## Setup\n",
    "\n",
    "Para facilitar la tarea propongo unas cuantas casillas para cargar en memoria los textos, tres .txt que están incluidos en un .zip.\n",
    "\n",
    "## Nota importante\n",
    "\n",
    "La codificación (juego de caracteres) es UTF-8 y creo que debe seguir siendo así. *NO* abráis los .txt con el Notepad de Windows, sino con el Notepad+++ que os permitiría cambiarlo o devolverlo a UTF-8 (o Unicode si queréis).\n",
    "\n",
    "A pesar que la salida por pantalla (en mi sistema, un Linux) de caracteres ñ y acentuados parece que está mal, luego la generación de texto (insisto, lo he comprobado en mi sistema) es correcta en español.\n"
   ]
  },
  {
   "cell_type": "markdown",
   "metadata": {
    "id": "WGyKZj3bzf9p"
   },
   "source": [
    "### Import TensorFlow and other libraries"
   ]
  },
  {
   "cell_type": "code",
   "execution_count": 103,
   "metadata": {
    "execution": {
     "iopub.execute_input": "2022-05-03T11:14:08.261025Z",
     "iopub.status.busy": "2022-05-03T11:14:08.260828Z",
     "iopub.status.idle": "2022-05-03T11:14:10.284556Z",
     "shell.execute_reply": "2022-05-03T11:14:10.283846Z"
    },
    "id": "yG_n40gFzf9s"
   },
   "outputs": [],
   "source": [
    "import tensorflow as tf\n",
    "import numpy as np\n",
    "import os\n",
    "import time\n",
    "import re\n",
    "import os\n"
   ]
  },
  {
   "cell_type": "markdown",
   "metadata": {
    "id": "EHDoRoc5PKWz"
   },
   "source": [
    "## Lectura de ficheros de datos"
   ]
  },
  {
   "cell_type": "code",
   "execution_count": 104,
   "metadata": {
    "execution": {
     "iopub.execute_input": "2022-05-03T11:14:10.288588Z",
     "iopub.status.busy": "2022-05-03T11:14:10.288339Z",
     "iopub.status.idle": "2022-05-03T11:14:10.512538Z",
     "shell.execute_reply": "2022-05-03T11:14:10.511842Z"
    },
    "id": "pD_55cOxLkAb"
   },
   "outputs": [],
   "source": [
    "datos_abascal   = \"intervencionesAbascal.txt\"\n",
    "datos_sanchez   = \"intervencionesSanchez.txt\"\n",
    "datos_casado    = \"intervencionesCasado.txt\""
   ]
  },
  {
   "cell_type": "markdown",
   "metadata": {
    "id": "UHjdCjDuSvX_"
   },
   "source": [
    "### Read the data\n",
    "\n",
    "First, look in the text:"
   ]
  },
  {
   "cell_type": "code",
   "execution_count": 105,
   "metadata": {
    "execution": {
     "iopub.execute_input": "2022-05-03T11:14:10.515842Z",
     "iopub.status.busy": "2022-05-03T11:14:10.515602Z",
     "iopub.status.idle": "2022-05-03T11:14:10.521336Z",
     "shell.execute_reply": "2022-05-03T11:14:10.520758Z"
    },
    "id": "aavnuByVymwK"
   },
   "outputs": [
    {
     "name": "stdout",
     "output_type": "stream",
     "text": [
      "Length of text: 22573 characters\n"
     ]
    }
   ],
   "source": [
    "# Read, then decode for py2 compat.\n",
    "text = open(datos_abascal, 'rb').read().decode(encoding='utf-8')\n",
    "# length of text is the number of characters in it\n",
    "print(f'Length of text: {len(text)} characters')"
   ]
  },
  {
   "cell_type": "code",
   "execution_count": 106,
   "metadata": {
    "execution": {
     "iopub.execute_input": "2022-05-03T11:14:10.524482Z",
     "iopub.status.busy": "2022-05-03T11:14:10.523966Z",
     "iopub.status.idle": "2022-05-03T11:14:10.527481Z",
     "shell.execute_reply": "2022-05-03T11:14:10.526931Z"
    },
    "id": "Duhg9NrUymwO"
   },
   "outputs": [
    {
     "name": "stdout",
     "output_type": "stream",
     "text": [
      "Señor Sánchez, ¿cómo se atreve usted a hablarme de monólogos si siempre trae las respuestas escritas, si usted nunca contesta a mis preguntas? Conteste por lo menos hoy. ¿Qué va a hacer usted para impedir que VOX siga cruzando las líneas que dice ust\n"
     ]
    }
   ],
   "source": [
    "# Take a look at the first 250 characters in text\n",
    "print(text[:250])"
   ]
  },
  {
   "cell_type": "code",
   "execution_count": 107,
   "metadata": {
    "execution": {
     "iopub.execute_input": "2022-05-03T11:14:10.530172Z",
     "iopub.status.busy": "2022-05-03T11:14:10.529967Z",
     "iopub.status.idle": "2022-05-03T11:14:10.544918Z",
     "shell.execute_reply": "2022-05-03T11:14:10.544310Z"
    },
    "id": "IlCgQBRVymwR"
   },
   "outputs": [
    {
     "name": "stdout",
     "output_type": "stream",
     "text": [
      "81 unique characters\n"
     ]
    }
   ],
   "source": [
    "# The unique characters in the file\n",
    "vocab = sorted(set(text))\n",
    "print(f'{len(vocab)} unique characters')"
   ]
  },
  {
   "cell_type": "markdown",
   "metadata": {
    "id": "rNnrKn_lL-IJ"
   },
   "source": [
    "## Process the text"
   ]
  },
  {
   "cell_type": "markdown",
   "metadata": {
    "id": "LFjSVAlWzf-N"
   },
   "source": [
    "### Vectorize the text\n",
    "\n",
    "Before training, you need to convert the strings to a numerical representation. \n",
    "\n",
    "The `tf.keras.layers.StringLookup` layer can convert each character into a numeric ID. It just needs the text to be split into tokens first."
   ]
  },
  {
   "cell_type": "code",
   "execution_count": 108,
   "metadata": {
    "execution": {
     "iopub.execute_input": "2022-05-03T11:14:10.547650Z",
     "iopub.status.busy": "2022-05-03T11:14:10.547458Z",
     "iopub.status.idle": "2022-05-03T11:14:12.216225Z",
     "shell.execute_reply": "2022-05-03T11:14:12.215486Z"
    },
    "id": "a86OoYtO01go"
   },
   "outputs": [
    {
     "data": {
      "text/plain": [
       "<tf.RaggedTensor [[b'a', b'b', b'c', b'd', b'e', b'f', b'g'], [b'x', b'y', b'z']]>"
      ]
     },
     "execution_count": 108,
     "metadata": {},
     "output_type": "execute_result"
    }
   ],
   "source": [
    "example_texts = ['abcdefg', 'xyz']\n",
    "\n",
    "chars = tf.strings.unicode_split(example_texts, input_encoding='UTF-8')\n",
    "chars"
   ]
  },
  {
   "cell_type": "markdown",
   "metadata": {
    "id": "1s4f1q3iqY8f"
   },
   "source": [
    "Now create the `tf.keras.layers.StringLookup` layer:"
   ]
  },
  {
   "cell_type": "code",
   "execution_count": 109,
   "metadata": {
    "execution": {
     "iopub.execute_input": "2022-05-03T11:14:12.219925Z",
     "iopub.status.busy": "2022-05-03T11:14:12.219236Z",
     "iopub.status.idle": "2022-05-03T11:14:12.230858Z",
     "shell.execute_reply": "2022-05-03T11:14:12.230260Z"
    },
    "id": "6GMlCe3qzaL9"
   },
   "outputs": [],
   "source": [
    "ids_from_chars = tf.keras.layers.StringLookup(\n",
    "    vocabulary=list(vocab), mask_token=None)"
   ]
  },
  {
   "cell_type": "markdown",
   "metadata": {
    "id": "ZmX_jbgQqfOi"
   },
   "source": [
    "It converts from tokens to character IDs:"
   ]
  },
  {
   "cell_type": "code",
   "execution_count": 110,
   "metadata": {
    "execution": {
     "iopub.execute_input": "2022-05-03T11:14:12.234414Z",
     "iopub.status.busy": "2022-05-03T11:14:12.233898Z",
     "iopub.status.idle": "2022-05-03T11:14:12.241111Z",
     "shell.execute_reply": "2022-05-03T11:14:12.240543Z"
    },
    "id": "WLv5Q_2TC2pc"
   },
   "outputs": [
    {
     "data": {
      "text/plain": [
       "<tf.RaggedTensor [[44, 45, 46, 47, 48, 49, 50], [66, 67, 68]]>"
      ]
     },
     "execution_count": 110,
     "metadata": {},
     "output_type": "execute_result"
    }
   ],
   "source": [
    "ids = ids_from_chars(chars)\n",
    "ids"
   ]
  },
  {
   "cell_type": "markdown",
   "metadata": {
    "id": "tZfqhkYCymwX"
   },
   "source": [
    "Since the goal of this tutorial is to generate text, it will also be important to invert this representation and recover human-readable strings from it. For this you can use `tf.keras.layers.StringLookup(..., invert=True)`.  "
   ]
  },
  {
   "cell_type": "markdown",
   "metadata": {
    "id": "uenivzwqsDhp"
   },
   "source": [
    "Note: Here instead of passing the original vocabulary generated with `sorted(set(text))` use the `get_vocabulary()` method of the `tf.keras.layers.StringLookup` layer so that the `[UNK]` tokens is set the same way."
   ]
  },
  {
   "cell_type": "code",
   "execution_count": 111,
   "metadata": {
    "execution": {
     "iopub.execute_input": "2022-05-03T11:14:12.244473Z",
     "iopub.status.busy": "2022-05-03T11:14:12.244010Z",
     "iopub.status.idle": "2022-05-03T11:14:12.251817Z",
     "shell.execute_reply": "2022-05-03T11:14:12.251224Z"
    },
    "id": "Wd2m3mqkDjRj"
   },
   "outputs": [],
   "source": [
    "chars_from_ids = tf.keras.layers.StringLookup(\n",
    "    vocabulary=ids_from_chars.get_vocabulary(), invert=True, mask_token=None)"
   ]
  },
  {
   "cell_type": "markdown",
   "metadata": {
    "id": "pqTDDxS-s-H8"
   },
   "source": [
    "This layer recovers the characters from the vectors of IDs, and returns them as a `tf.RaggedTensor` of characters:"
   ]
  },
  {
   "cell_type": "code",
   "execution_count": 112,
   "metadata": {
    "execution": {
     "iopub.execute_input": "2022-05-03T11:14:12.255016Z",
     "iopub.status.busy": "2022-05-03T11:14:12.254548Z",
     "iopub.status.idle": "2022-05-03T11:14:12.259845Z",
     "shell.execute_reply": "2022-05-03T11:14:12.259298Z"
    },
    "id": "c2GCh0ySD44s"
   },
   "outputs": [
    {
     "data": {
      "text/plain": [
       "<tf.RaggedTensor [[b'a', b'b', b'c', b'd', b'e', b'f', b'g'], [b'x', b'y', b'z']]>"
      ]
     },
     "execution_count": 112,
     "metadata": {},
     "output_type": "execute_result"
    }
   ],
   "source": [
    "chars = chars_from_ids(ids)\n",
    "chars"
   ]
  },
  {
   "cell_type": "markdown",
   "metadata": {
    "id": "-FeW5gqutT3o"
   },
   "source": [
    "You can `tf.strings.reduce_join` to join the characters back into strings. "
   ]
  },
  {
   "cell_type": "code",
   "execution_count": 113,
   "metadata": {
    "execution": {
     "iopub.execute_input": "2022-05-03T11:14:12.263027Z",
     "iopub.status.busy": "2022-05-03T11:14:12.262587Z",
     "iopub.status.idle": "2022-05-03T11:14:12.273779Z",
     "shell.execute_reply": "2022-05-03T11:14:12.273214Z"
    },
    "id": "zxYI-PeltqKP"
   },
   "outputs": [
    {
     "data": {
      "text/plain": [
       "array([b'abcdefg', b'xyz'], dtype=object)"
      ]
     },
     "execution_count": 113,
     "metadata": {},
     "output_type": "execute_result"
    }
   ],
   "source": [
    "tf.strings.reduce_join(chars, axis=-1).numpy()"
   ]
  },
  {
   "cell_type": "code",
   "execution_count": 114,
   "metadata": {
    "execution": {
     "iopub.execute_input": "2022-05-03T11:14:12.276992Z",
     "iopub.status.busy": "2022-05-03T11:14:12.276505Z",
     "iopub.status.idle": "2022-05-03T11:14:12.280017Z",
     "shell.execute_reply": "2022-05-03T11:14:12.279421Z"
    },
    "id": "w5apvBDn9Ind"
   },
   "outputs": [],
   "source": [
    "def text_from_ids(ids):\n",
    "    return tf.strings.reduce_join(chars_from_ids(ids), axis=-1)"
   ]
  },
  {
   "cell_type": "markdown",
   "metadata": {
    "id": "bbmsf23Bymwe"
   },
   "source": [
    "### The prediction task"
   ]
  },
  {
   "cell_type": "markdown",
   "metadata": {
    "id": "wssHQ1oGymwe"
   },
   "source": [
    "Given a character, or a sequence of characters, what is the most probable next character? This is the task you're training the model to perform. The input to the model will be a sequence of characters, and you train the model to predict the output—the following character at each time step.\n",
    "\n",
    "Since RNNs maintain an internal state that depends on the previously seen elements, given all the characters computed until this moment, what is the next character?\n"
   ]
  },
  {
   "cell_type": "markdown",
   "metadata": {
    "id": "hgsVvVxnymwf"
   },
   "source": [
    "# Fases propuestas para la elaboración del modelo\n",
    "\n",
    "### 1. Create training examples and targets\n",
    "\n",
    "Next divide the text into example sequences. Each input sequence will contain `seq_length` characters from the text.\n",
    "\n",
    "For each input sequence, the corresponding targets contain the same length of text, except shifted one character to the right.\n",
    "\n",
    "So break the text into chunks of `seq_length+1`. For example, say `seq_length` is 4 and our text is \"Hello\". The input sequence would be \"Hell\", and the target sequence \"ello\".\n",
    "\n",
    "To do this first use the `tf.data.Dataset.from_tensor_slices` function to convert the text vector into a stream of character indices."
   ]
  },
  {
   "cell_type": "code",
   "execution_count": 115,
   "metadata": {},
   "outputs": [],
   "source": [
    "text = open(datos_abascal, 'rb').read().decode(encoding='utf-8')\n",
    "vocab = sorted(set(text))\n",
    "\n",
    "char2idx = {u:i for i, u in enumerate(vocab)}\n",
    "idx2char = np.array(vocab)\n",
    "\n",
    "text_as_int = np.array([char2idx[c] for c in text])\n",
    "\n",
    "char_dataset = tf.data.Dataset.from_tensor_slices(text_as_int)"
   ]
  },
  {
   "cell_type": "markdown",
   "metadata": {
    "id": "MJdfPmdqzf-R"
   },
   "source": [
    "### 2. Create training batches\n",
    "\n",
    "You used `tf.data` to split the text into manageable sequences. But before feeding this data into the model, you need to shuffle the data and pack it into batches."
   ]
  },
  {
   "cell_type": "code",
   "execution_count": 116,
   "metadata": {},
   "outputs": [
    {
     "name": "stdout",
     "output_type": "stream",
     "text": [
      "'Señor Sánchez, ¿cómo se atreve usted a hablarme de monólogos si siempre trae las respuestas escritas,'\n",
      "' si usted nunca contesta a mis preguntas? Conteste por lo menos hoy. ¿Qué va a hacer usted para imped'\n",
      "'ir que VOX siga cruzando las líneas que dice usted que cruzamos? Conteste también lo que no me ha con'\n",
      "'testado durante toda esta legislatura: ¿por qué mintió a los españoles prometiéndoles que no pactaría'\n",
      "' con estos, con esos y con aquellos?  Contésteme a eso y entonces no habrá monólogos, habrá diálogo p'\n",
      "'olítico, algo que nunca ha habido en esta Cámara por su culpa.\\nNada, señor Sánchez, le prestamos los '\n",
      "'siete segundos que nos quedan para su próxima cumbre bilateral, que seguro que los aprovecha bien. Mu'\n",
      "'chas gracias.\\nSeñor Sánchez, no puede haber barrios ni calles seguras si no hay fronteras seguras. ¿U'\n",
      "'sted sabe lo que ha pasado en España las últimas semanas? ¿Sabe usted que algunos de los yihadistas d'\n",
      "'etenidos en Barcelona, que pretendían atentar en nuestro país, habían entrado en patera ilegalmente? '\n"
     ]
    }
   ],
   "source": [
    "seq_length = 100\n",
    "\n",
    "sequences = char_dataset.batch(seq_length+1, drop_remainder=True)\n",
    "\n",
    "for item in sequences.take(10):\n",
    "    print(repr(''.join(idx2char[item.numpy()])))\n",
    "    \n",
    "    \n",
    "def split_input_target(sequence):\n",
    "    input_text = sequence[:-1]\n",
    "    target_text = sequence[1:]\n",
    "    return input_text, target_text\n",
    "\n",
    "dataset = sequences.map(split_input_target)\n",
    "    "
   ]
  },
  {
   "cell_type": "markdown",
   "metadata": {
    "id": "r6oUuElIMgVx"
   },
   "source": [
    "## 3. Build The Model\n",
    "\n",
    "Puedes usar cualquiera de los modelos (RNN, LSTM, GRU) que hemos visto en clase. Por supuesto, del tamaño del modelo (capas, neuronas en cada capa) así como de las épocas (más adelante) dependerá el tiempo de proceso en el .fit"
   ]
  },
  {
   "cell_type": "code",
   "execution_count": 117,
   "metadata": {},
   "outputs": [
    {
     "data": {
      "text/plain": [
       "<_BatchDataset element_spec=(TensorSpec(shape=(64, 100), dtype=tf.int64, name=None), TensorSpec(shape=(64, 100), dtype=tf.int64, name=None))>"
      ]
     },
     "execution_count": 117,
     "metadata": {},
     "output_type": "execute_result"
    }
   ],
   "source": [
    "BATCH_SIZE = 64\n",
    "BUFFER_SIZE = 10000\n",
    "\n",
    "dataset = (\n",
    "    dataset\n",
    "    .shuffle(BUFFER_SIZE)\n",
    "    .batch(BATCH_SIZE, drop_remainder=True)\n",
    ")\n",
    "\n",
    "dataset"
   ]
  },
  {
   "cell_type": "code",
   "execution_count": 118,
   "metadata": {},
   "outputs": [
    {
     "name": "stdout",
     "output_type": "stream",
     "text": [
      "Model: \"sequential_8\"\n",
      "_________________________________________________________________\n",
      " Layer (type)                Output Shape              Param #   \n",
      "=================================================================\n",
      " embedding_8 (Embedding)     (64, None, 512)           41472     \n",
      "                                                                 \n",
      " lstm_8 (LSTM)               (64, None, 2048)          20979712  \n",
      "                                                                 \n",
      " dense_8 (Dense)             (64, None, 81)            165969    \n",
      "                                                                 \n",
      "=================================================================\n",
      "Total params: 21187153 (80.82 MB)\n",
      "Trainable params: 21187153 (80.82 MB)\n",
      "Non-trainable params: 0 (0.00 Byte)\n",
      "_________________________________________________________________\n"
     ]
    }
   ],
   "source": [
    "from keras.models import Sequential\n",
    "from keras.layers import Embedding, LSTM, Dense\n",
    "\n",
    "def build_model(vocab_size, embedding_dim, rnn_units, batch_size):\n",
    "    model = Sequential([\n",
    "        Embedding(vocab_size, embedding_dim,\n",
    "                  batch_input_shape=[batch_size, None]),\n",
    "        LSTM(rnn_units, return_sequences=True,\n",
    "             recurrent_initializer='glorot_uniform',\n",
    "             stateful=True),\n",
    "        Dense(vocab_size)\n",
    "    ])\n",
    "    \n",
    "    return model\n",
    "\n",
    "vocab_size = len(vocab)\n",
    "embedding_dim = 512\n",
    "rnn_units = 2048\n",
    "\n",
    "model = build_model(\n",
    "    vocab_size=len(vocab),\n",
    "    embedding_dim=embedding_dim,\n",
    "    rnn_units=rnn_units,\n",
    "    batch_size=BATCH_SIZE)\n",
    "\n",
    "model.summary()\n",
    " "
   ]
  },
  {
   "cell_type": "code",
   "execution_count": 119,
   "metadata": {},
   "outputs": [],
   "source": [
    "def loss(labels, logits):\n",
    "    return tf.keras.losses.sparse_categorical_crossentropy(labels, logits, from_logits=True)"
   ]
  },
  {
   "cell_type": "code",
   "execution_count": 120,
   "metadata": {},
   "outputs": [],
   "source": [
    "model.compile(optimizer='adam', loss=loss)\n",
    "\n",
    "checkpoint_dir = './training_checkpoints'\n",
    "checkpoint_prefix = os.path.join(checkpoint_dir, \"ckpt_{epoch}\")\n",
    "\n",
    "checkpoint_callback=tf.keras.callbacks.ModelCheckpoint(\n",
    "    filepath=checkpoint_prefix,\n",
    "    save_weights_only=True)"
   ]
  },
  {
   "cell_type": "markdown",
   "metadata": {
    "id": "m8gPwEjRzf-Z"
   },
   "source": []
  },
  {
   "cell_type": "markdown",
   "metadata": {
    "id": "-ubPo0_9Prjb"
   },
   "source": [
    "## 4. Summary y fit del modelo\n",
    "\n"
   ]
  },
  {
   "cell_type": "code",
   "execution_count": 121,
   "metadata": {},
   "outputs": [
    {
     "name": "stdout",
     "output_type": "stream",
     "text": [
      "Epoch 1/200\n"
     ]
    },
    {
     "name": "stdout",
     "output_type": "stream",
     "text": [
      "WARNING:tensorflow:Detecting that an object or model or tf.train.Checkpoint is being deleted with unrestored values. See the following logs for the specific values in question. To silence these warnings, use `status.expect_partial()`. See https://www.tensorflow.org/api_docs/python/tf/train/Checkpoint#restorefor details about the status object returned by the restore function.\n",
      "WARNING:tensorflow:Value in checkpoint could not be found in the restored object: (root).optimizer._iterations\n",
      "WARNING:tensorflow:Value in checkpoint could not be found in the restored object: (root).optimizer._learning_rate\n",
      "WARNING:tensorflow:Value in checkpoint could not be found in the restored object: (root).optimizer._variables.1\n",
      "WARNING:tensorflow:Value in checkpoint could not be found in the restored object: (root).optimizer._variables.2\n",
      "WARNING:tensorflow:Value in checkpoint could not be found in the restored object: (root).optimizer._variables.3\n",
      "WARNING:tensorflow:Value in checkpoint could not be found in the restored object: (root).optimizer._variables.4\n",
      "WARNING:tensorflow:Value in checkpoint could not be found in the restored object: (root).optimizer._variables.5\n",
      "WARNING:tensorflow:Value in checkpoint could not be found in the restored object: (root).optimizer._variables.6\n",
      "WARNING:tensorflow:Value in checkpoint could not be found in the restored object: (root).optimizer._variables.7\n",
      "WARNING:tensorflow:Value in checkpoint could not be found in the restored object: (root).optimizer._variables.8\n",
      "WARNING:tensorflow:Value in checkpoint could not be found in the restored object: (root).optimizer._variables.9\n",
      "WARNING:tensorflow:Value in checkpoint could not be found in the restored object: (root).optimizer._variables.10\n",
      "WARNING:tensorflow:Value in checkpoint could not be found in the restored object: (root).optimizer._variables.11\n",
      "WARNING:tensorflow:Value in checkpoint could not be found in the restored object: (root).optimizer._variables.12\n",
      "3/3 [==============================] - 2s 265ms/step - loss: 4.6340\n",
      "Epoch 2/200\n",
      "3/3 [==============================] - 1s 244ms/step - loss: 5.0840\n",
      "Epoch 3/200\n",
      "3/3 [==============================] - 1s 254ms/step - loss: 3.8636\n",
      "Epoch 4/200\n",
      "3/3 [==============================] - 1s 249ms/step - loss: 3.0622\n",
      "Epoch 5/200\n",
      "3/3 [==============================] - 1s 245ms/step - loss: 3.0155\n",
      "Epoch 6/200\n",
      "3/3 [==============================] - 1s 251ms/step - loss: 2.9920\n",
      "Epoch 7/200\n",
      "3/3 [==============================] - 1s 244ms/step - loss: 2.9540\n",
      "Epoch 8/200\n",
      "3/3 [==============================] - 1s 245ms/step - loss: 2.9441\n",
      "Epoch 9/200\n",
      "3/3 [==============================] - 1s 241ms/step - loss: 2.9070\n",
      "Epoch 10/200\n",
      "3/3 [==============================] - 1s 243ms/step - loss: 2.8717\n",
      "Epoch 11/200\n",
      "3/3 [==============================] - 1s 241ms/step - loss: 2.8281\n",
      "Epoch 12/200\n",
      "3/3 [==============================] - 1s 297ms/step - loss: 2.7846\n",
      "Epoch 13/200\n",
      "3/3 [==============================] - 1s 251ms/step - loss: 2.7398\n",
      "Epoch 14/200\n",
      "3/3 [==============================] - 1s 246ms/step - loss: 2.6893\n",
      "Epoch 15/200\n",
      "3/3 [==============================] - 1s 241ms/step - loss: 2.6411\n",
      "Epoch 16/200\n",
      "3/3 [==============================] - 1s 255ms/step - loss: 2.5917\n",
      "Epoch 17/200\n",
      "3/3 [==============================] - 1s 245ms/step - loss: 2.5373\n",
      "Epoch 18/200\n",
      "3/3 [==============================] - 1s 242ms/step - loss: 2.4992\n",
      "Epoch 19/200\n",
      "3/3 [==============================] - 1s 246ms/step - loss: 2.4443\n",
      "Epoch 20/200\n",
      "3/3 [==============================] - 1s 252ms/step - loss: 2.4126\n",
      "Epoch 21/200\n",
      "3/3 [==============================] - 1s 249ms/step - loss: 2.3840\n",
      "Epoch 22/200\n",
      "3/3 [==============================] - 1s 267ms/step - loss: 2.3467\n",
      "Epoch 23/200\n",
      "3/3 [==============================] - 1s 261ms/step - loss: 2.3302\n",
      "Epoch 24/200\n",
      "3/3 [==============================] - 1s 248ms/step - loss: 2.3037\n",
      "Epoch 25/200\n",
      "3/3 [==============================] - 1s 247ms/step - loss: 2.2821\n",
      "Epoch 26/200\n",
      "3/3 [==============================] - 1s 250ms/step - loss: 2.2620\n",
      "Epoch 27/200\n",
      "3/3 [==============================] - 1s 251ms/step - loss: 2.2456\n",
      "Epoch 28/200\n",
      "3/3 [==============================] - 1s 249ms/step - loss: 2.2225\n",
      "Epoch 29/200\n",
      "3/3 [==============================] - 1s 251ms/step - loss: 2.2082\n",
      "Epoch 30/200\n",
      "3/3 [==============================] - 1s 257ms/step - loss: 2.1855\n",
      "Epoch 31/200\n",
      "3/3 [==============================] - 1s 255ms/step - loss: 2.1626\n",
      "Epoch 32/200\n",
      "3/3 [==============================] - 1s 246ms/step - loss: 2.1521\n",
      "Epoch 33/200\n",
      "3/3 [==============================] - 1s 249ms/step - loss: 2.1316\n",
      "Epoch 34/200\n",
      "3/3 [==============================] - 1s 248ms/step - loss: 2.1216\n",
      "Epoch 35/200\n",
      "3/3 [==============================] - 1s 247ms/step - loss: 2.0983\n",
      "Epoch 36/200\n",
      "3/3 [==============================] - 1s 247ms/step - loss: 2.0884\n",
      "Epoch 37/200\n",
      "3/3 [==============================] - 1s 253ms/step - loss: 2.0768\n",
      "Epoch 38/200\n",
      "3/3 [==============================] - 1s 249ms/step - loss: 2.0526\n",
      "Epoch 39/200\n",
      "3/3 [==============================] - 1s 246ms/step - loss: 2.0310\n",
      "Epoch 40/200\n",
      "3/3 [==============================] - 1s 247ms/step - loss: 2.0270\n",
      "Epoch 41/200\n",
      "3/3 [==============================] - 1s 246ms/step - loss: 1.9988\n",
      "Epoch 42/200\n",
      "3/3 [==============================] - 1s 249ms/step - loss: 1.9797\n",
      "Epoch 43/200\n",
      "3/3 [==============================] - 1s 250ms/step - loss: 1.9619\n",
      "Epoch 44/200\n",
      "3/3 [==============================] - 1s 272ms/step - loss: 1.9468\n",
      "Epoch 45/200\n",
      "3/3 [==============================] - 1s 256ms/step - loss: 1.9335\n",
      "Epoch 46/200\n",
      "3/3 [==============================] - 1s 258ms/step - loss: 1.9174\n",
      "Epoch 47/200\n",
      "3/3 [==============================] - 1s 257ms/step - loss: 1.8931\n",
      "Epoch 48/200\n",
      "3/3 [==============================] - 1s 249ms/step - loss: 1.8755\n",
      "Epoch 49/200\n",
      "3/3 [==============================] - 1s 243ms/step - loss: 1.8559\n",
      "Epoch 50/200\n",
      "3/3 [==============================] - 1s 245ms/step - loss: 1.8431\n",
      "Epoch 51/200\n",
      "3/3 [==============================] - 1s 251ms/step - loss: 1.8116\n",
      "Epoch 52/200\n",
      "3/3 [==============================] - 1s 246ms/step - loss: 1.8001\n",
      "Epoch 53/200\n",
      "3/3 [==============================] - 1s 246ms/step - loss: 1.7955\n",
      "Epoch 54/200\n",
      "3/3 [==============================] - 1s 242ms/step - loss: 1.7760\n",
      "Epoch 55/200\n",
      "3/3 [==============================] - 1s 244ms/step - loss: 1.7495\n",
      "Epoch 56/200\n",
      "3/3 [==============================] - 3s 1s/step - loss: 1.7390\n",
      "Epoch 57/200\n",
      "3/3 [==============================] - 7s 3s/step - loss: 1.7134\n",
      "Epoch 58/200\n",
      "3/3 [==============================] - 1s 255ms/step - loss: 1.6953\n",
      "Epoch 59/200\n",
      "3/3 [==============================] - 1s 249ms/step - loss: 1.6730\n",
      "Epoch 60/200\n",
      "3/3 [==============================] - 1s 245ms/step - loss: 1.6539\n",
      "Epoch 61/200\n",
      "3/3 [==============================] - 1s 244ms/step - loss: 1.6348\n",
      "Epoch 62/200\n",
      "3/3 [==============================] - 1s 246ms/step - loss: 1.6064\n",
      "Epoch 63/200\n",
      "3/3 [==============================] - 1s 275ms/step - loss: 1.5901\n",
      "Epoch 64/200\n",
      "3/3 [==============================] - 1s 245ms/step - loss: 1.5596\n",
      "Epoch 65/200\n",
      "3/3 [==============================] - 1s 252ms/step - loss: 1.5440\n",
      "Epoch 66/200\n",
      "3/3 [==============================] - 1s 251ms/step - loss: 1.5233\n",
      "Epoch 67/200\n",
      "3/3 [==============================] - 1s 244ms/step - loss: 1.4939\n",
      "Epoch 68/200\n",
      "3/3 [==============================] - 1s 252ms/step - loss: 1.4782\n",
      "Epoch 69/200\n",
      "3/3 [==============================] - 1s 244ms/step - loss: 1.4870\n",
      "Epoch 70/200\n",
      "3/3 [==============================] - 1s 247ms/step - loss: 1.4379\n",
      "Epoch 71/200\n",
      "3/3 [==============================] - 1s 252ms/step - loss: 1.4225\n",
      "Epoch 72/200\n",
      "3/3 [==============================] - 1s 247ms/step - loss: 1.3839\n",
      "Epoch 73/200\n",
      "3/3 [==============================] - 1s 256ms/step - loss: 1.3445\n",
      "Epoch 74/200\n",
      "3/3 [==============================] - 1s 252ms/step - loss: 1.3203\n",
      "Epoch 75/200\n",
      "3/3 [==============================] - 1s 249ms/step - loss: 1.3093\n",
      "Epoch 76/200\n",
      "3/3 [==============================] - 1s 258ms/step - loss: 1.2685\n",
      "Epoch 77/200\n",
      "3/3 [==============================] - 1s 249ms/step - loss: 1.2453\n",
      "Epoch 78/200\n",
      "3/3 [==============================] - 1s 250ms/step - loss: 1.2501\n",
      "Epoch 79/200\n",
      "3/3 [==============================] - 1s 246ms/step - loss: 1.1996\n",
      "Epoch 80/200\n",
      "3/3 [==============================] - 1s 257ms/step - loss: 1.1641\n",
      "Epoch 81/200\n",
      "3/3 [==============================] - 1s 253ms/step - loss: 1.1487\n",
      "Epoch 82/200\n",
      "3/3 [==============================] - 1s 249ms/step - loss: 1.1188\n",
      "Epoch 83/200\n",
      "3/3 [==============================] - 1s 263ms/step - loss: 1.0693\n",
      "Epoch 84/200\n",
      "3/3 [==============================] - 1s 249ms/step - loss: 1.0275\n",
      "Epoch 85/200\n",
      "3/3 [==============================] - 1s 248ms/step - loss: 0.9928\n",
      "Epoch 86/200\n",
      "3/3 [==============================] - 1s 261ms/step - loss: 0.9616\n",
      "Epoch 87/200\n",
      "3/3 [==============================] - 1s 248ms/step - loss: 0.9330\n",
      "Epoch 88/200\n",
      "3/3 [==============================] - 1s 248ms/step - loss: 0.8953\n",
      "Epoch 89/200\n",
      "3/3 [==============================] - 1s 244ms/step - loss: 0.8507\n",
      "Epoch 90/200\n",
      "3/3 [==============================] - 1s 254ms/step - loss: 0.8044\n",
      "Epoch 91/200\n",
      "3/3 [==============================] - 1s 247ms/step - loss: 0.7677\n",
      "Epoch 92/200\n",
      "3/3 [==============================] - 1s 248ms/step - loss: 0.7726\n",
      "Epoch 93/200\n",
      "3/3 [==============================] - 1s 259ms/step - loss: 0.7334\n",
      "Epoch 94/200\n",
      "3/3 [==============================] - 1s 252ms/step - loss: 0.6821\n",
      "Epoch 95/200\n",
      "3/3 [==============================] - 1s 254ms/step - loss: 0.6458\n",
      "Epoch 96/200\n",
      "3/3 [==============================] - 1s 247ms/step - loss: 0.6205\n",
      "Epoch 97/200\n",
      "3/3 [==============================] - 1s 246ms/step - loss: 0.5913\n",
      "Epoch 98/200\n",
      "3/3 [==============================] - 1s 249ms/step - loss: 0.5426\n",
      "Epoch 99/200\n",
      "3/3 [==============================] - 1s 254ms/step - loss: 0.5132\n",
      "Epoch 100/200\n",
      "3/3 [==============================] - 1s 246ms/step - loss: 0.4893\n",
      "Epoch 101/200\n",
      "3/3 [==============================] - 1s 249ms/step - loss: 0.4577\n",
      "Epoch 102/200\n",
      "3/3 [==============================] - 1s 253ms/step - loss: 0.4278\n",
      "Epoch 103/200\n",
      "3/3 [==============================] - 1s 317ms/step - loss: 0.4045\n",
      "Epoch 104/200\n",
      "3/3 [==============================] - 5s 2s/step - loss: 0.3833\n",
      "Epoch 105/200\n",
      "3/3 [==============================] - 5s 2s/step - loss: 0.3649\n",
      "Epoch 106/200\n",
      "3/3 [==============================] - 1s 256ms/step - loss: 0.3509\n",
      "Epoch 107/200\n",
      "3/3 [==============================] - 1s 244ms/step - loss: 0.3307\n",
      "Epoch 108/200\n",
      "3/3 [==============================] - 1s 248ms/step - loss: 0.3105\n",
      "Epoch 109/200\n",
      "3/3 [==============================] - 1s 248ms/step - loss: 0.3003\n",
      "Epoch 110/200\n",
      "3/3 [==============================] - 1s 253ms/step - loss: 0.2855\n",
      "Epoch 111/200\n",
      "3/3 [==============================] - 1s 250ms/step - loss: 0.2705\n",
      "Epoch 112/200\n",
      "3/3 [==============================] - 1s 249ms/step - loss: 0.2646\n",
      "Epoch 113/200\n",
      "3/3 [==============================] - 1s 249ms/step - loss: 0.2578\n",
      "Epoch 114/200\n",
      "3/3 [==============================] - 1s 246ms/step - loss: 0.2460\n",
      "Epoch 115/200\n",
      "3/3 [==============================] - 1s 255ms/step - loss: 0.2364\n",
      "Epoch 116/200\n",
      "3/3 [==============================] - 1s 248ms/step - loss: 0.2322\n",
      "Epoch 117/200\n",
      "3/3 [==============================] - 1s 256ms/step - loss: 0.2295\n",
      "Epoch 118/200\n",
      "3/3 [==============================] - 1s 251ms/step - loss: 0.2272\n",
      "Epoch 119/200\n",
      "3/3 [==============================] - 1s 245ms/step - loss: 0.2166\n",
      "Epoch 120/200\n",
      "3/3 [==============================] - 1s 246ms/step - loss: 0.2117\n",
      "Epoch 121/200\n",
      "3/3 [==============================] - 1s 251ms/step - loss: 0.2027\n",
      "Epoch 122/200\n",
      "3/3 [==============================] - 1s 254ms/step - loss: 0.1998\n",
      "Epoch 123/200\n",
      "3/3 [==============================] - 1s 248ms/step - loss: 0.1967\n",
      "Epoch 124/200\n",
      "3/3 [==============================] - 1s 247ms/step - loss: 0.1968\n",
      "Epoch 125/200\n",
      "3/3 [==============================] - 1s 253ms/step - loss: 0.1868\n",
      "Epoch 126/200\n",
      "3/3 [==============================] - 1s 256ms/step - loss: 0.1846\n",
      "Epoch 127/200\n",
      "3/3 [==============================] - 1s 252ms/step - loss: 0.1771\n",
      "Epoch 128/200\n",
      "3/3 [==============================] - 1s 249ms/step - loss: 0.1810\n",
      "Epoch 129/200\n",
      "3/3 [==============================] - 1s 252ms/step - loss: 0.1820\n",
      "Epoch 130/200\n",
      "3/3 [==============================] - 1s 246ms/step - loss: 0.1735\n",
      "Epoch 131/200\n",
      "3/3 [==============================] - 1s 262ms/step - loss: 0.1713\n",
      "Epoch 132/200\n",
      "3/3 [==============================] - 1s 264ms/step - loss: 0.1655\n",
      "Epoch 133/200\n",
      "3/3 [==============================] - 1s 271ms/step - loss: 0.1609\n",
      "Epoch 134/200\n",
      "3/3 [==============================] - 1s 250ms/step - loss: 0.1617\n",
      "Epoch 135/200\n",
      "3/3 [==============================] - 1s 252ms/step - loss: 0.1595\n",
      "Epoch 136/200\n",
      "3/3 [==============================] - 1s 248ms/step - loss: 0.1576\n",
      "Epoch 137/200\n",
      "3/3 [==============================] - 1s 246ms/step - loss: 0.1550\n",
      "Epoch 138/200\n",
      "3/3 [==============================] - 1s 248ms/step - loss: 0.1516\n",
      "Epoch 139/200\n",
      "3/3 [==============================] - 1s 250ms/step - loss: 0.1537\n",
      "Epoch 140/200\n",
      "3/3 [==============================] - 1s 252ms/step - loss: 0.1471\n",
      "Epoch 141/200\n",
      "3/3 [==============================] - 1s 248ms/step - loss: 0.1461\n",
      "Epoch 142/200\n",
      "3/3 [==============================] - 1s 254ms/step - loss: 0.1410\n",
      "Epoch 143/200\n",
      "3/3 [==============================] - 1s 250ms/step - loss: 0.1417\n",
      "Epoch 144/200\n",
      "3/3 [==============================] - 1s 250ms/step - loss: 0.1394\n",
      "Epoch 145/200\n",
      "3/3 [==============================] - 1s 252ms/step - loss: 0.1363\n",
      "Epoch 146/200\n",
      "3/3 [==============================] - 1s 262ms/step - loss: 0.1366\n",
      "Epoch 147/200\n",
      "3/3 [==============================] - 1s 249ms/step - loss: 0.1403\n",
      "Epoch 148/200\n",
      "3/3 [==============================] - 1s 360ms/step - loss: 0.1318\n",
      "Epoch 149/200\n",
      "3/3 [==============================] - 5s 3s/step - loss: 0.1352\n",
      "Epoch 150/200\n",
      "3/3 [==============================] - 5s 2s/step - loss: 0.1328\n",
      "Epoch 151/200\n",
      "3/3 [==============================] - 1s 248ms/step - loss: 0.1280\n",
      "Epoch 152/200\n",
      "3/3 [==============================] - 1s 244ms/step - loss: 0.1287\n",
      "Epoch 153/200\n",
      "3/3 [==============================] - 1s 247ms/step - loss: 0.1282\n",
      "Epoch 154/200\n",
      "3/3 [==============================] - 1s 245ms/step - loss: 0.1277\n",
      "Epoch 155/200\n",
      "3/3 [==============================] - 1s 247ms/step - loss: 0.1196\n",
      "Epoch 156/200\n",
      "3/3 [==============================] - 1s 246ms/step - loss: 0.1206\n",
      "Epoch 157/200\n",
      "3/3 [==============================] - 1s 252ms/step - loss: 0.1175\n",
      "Epoch 158/200\n",
      "3/3 [==============================] - 1s 250ms/step - loss: 0.1196\n",
      "Epoch 159/200\n",
      "3/3 [==============================] - 1s 253ms/step - loss: 0.1192\n",
      "Epoch 160/200\n",
      "3/3 [==============================] - 1s 259ms/step - loss: 0.1157\n",
      "Epoch 161/200\n",
      "3/3 [==============================] - 1s 252ms/step - loss: 0.1165\n",
      "Epoch 162/200\n",
      "3/3 [==============================] - 1s 252ms/step - loss: 0.1164\n",
      "Epoch 163/200\n",
      "3/3 [==============================] - 1s 248ms/step - loss: 0.1180\n",
      "Epoch 164/200\n",
      "3/3 [==============================] - 1s 262ms/step - loss: 0.1116\n",
      "Epoch 165/200\n",
      "3/3 [==============================] - 1s 272ms/step - loss: 0.1155\n",
      "Epoch 166/200\n",
      "3/3 [==============================] - 1s 257ms/step - loss: 0.1099\n",
      "Epoch 167/200\n",
      "3/3 [==============================] - 1s 267ms/step - loss: 0.1089\n",
      "Epoch 168/200\n",
      "3/3 [==============================] - 1s 256ms/step - loss: 0.1113\n",
      "Epoch 169/200\n",
      "3/3 [==============================] - 1s 248ms/step - loss: 0.1089\n",
      "Epoch 170/200\n",
      "3/3 [==============================] - 1s 254ms/step - loss: 0.1064\n",
      "Epoch 171/200\n",
      "3/3 [==============================] - 1s 250ms/step - loss: 0.1052\n",
      "Epoch 172/200\n",
      "3/3 [==============================] - 1s 251ms/step - loss: 0.1066\n",
      "Epoch 173/200\n",
      "3/3 [==============================] - 1s 262ms/step - loss: 0.1091\n",
      "Epoch 174/200\n",
      "3/3 [==============================] - 1s 246ms/step - loss: 0.1018\n",
      "Epoch 175/200\n",
      "3/3 [==============================] - 1s 246ms/step - loss: 0.1033\n",
      "Epoch 176/200\n",
      "3/3 [==============================] - 1s 247ms/step - loss: 0.1021\n",
      "Epoch 177/200\n",
      "3/3 [==============================] - 1s 253ms/step - loss: 0.0990\n",
      "Epoch 178/200\n",
      "3/3 [==============================] - 1s 245ms/step - loss: 0.1003\n",
      "Epoch 179/200\n",
      "3/3 [==============================] - 1s 246ms/step - loss: 0.1018\n",
      "Epoch 180/200\n",
      "3/3 [==============================] - 1s 249ms/step - loss: 0.0965\n",
      "Epoch 181/200\n",
      "3/3 [==============================] - 1s 247ms/step - loss: 0.1001\n",
      "Epoch 182/200\n",
      "3/3 [==============================] - 1s 245ms/step - loss: 0.0971\n",
      "Epoch 183/200\n",
      "3/3 [==============================] - 1s 325ms/step - loss: 0.0960\n",
      "Epoch 184/200\n",
      "3/3 [==============================] - 1s 255ms/step - loss: 0.0993\n",
      "Epoch 185/200\n",
      "3/3 [==============================] - 2s 1s/step - loss: 0.0999\n",
      "Epoch 186/200\n",
      "3/3 [==============================] - 6s 3s/step - loss: 0.0953\n",
      "Epoch 187/200\n",
      "3/3 [==============================] - 2s 776ms/step - loss: 0.0944\n",
      "Epoch 188/200\n",
      "3/3 [==============================] - 1s 259ms/step - loss: 0.0958\n",
      "Epoch 189/200\n",
      "3/3 [==============================] - 1s 263ms/step - loss: 0.0970\n",
      "Epoch 190/200\n",
      "3/3 [==============================] - 1s 248ms/step - loss: 0.0923\n",
      "Epoch 191/200\n",
      "3/3 [==============================] - 1s 253ms/step - loss: 0.0927\n",
      "Epoch 192/200\n",
      "3/3 [==============================] - 1s 262ms/step - loss: 0.0906\n",
      "Epoch 193/200\n",
      "3/3 [==============================] - 1s 255ms/step - loss: 0.0894\n",
      "Epoch 194/200\n",
      "3/3 [==============================] - 1s 247ms/step - loss: 0.0917\n",
      "Epoch 195/200\n",
      "3/3 [==============================] - 1s 248ms/step - loss: 0.0925\n",
      "Epoch 196/200\n",
      "3/3 [==============================] - 1s 259ms/step - loss: 0.0905\n",
      "Epoch 197/200\n",
      "3/3 [==============================] - 1s 257ms/step - loss: 0.0899\n",
      "Epoch 198/200\n",
      "3/3 [==============================] - 1s 252ms/step - loss: 0.0890\n",
      "Epoch 199/200\n",
      "3/3 [==============================] - 1s 266ms/step - loss: 0.0909\n",
      "Epoch 200/200\n",
      "3/3 [==============================] - 1s 306ms/step - loss: 0.0903\n"
     ]
    }
   ],
   "source": [
    "EPOCHS = 200\n",
    "\n",
    "history = model.fit(dataset, epochs=EPOCHS, callbacks=[checkpoint_callback])"
   ]
  },
  {
   "cell_type": "markdown",
   "metadata": {
    "id": "IxdOA-rgyGvs"
   },
   "source": [
    "Aconsejable el uso de GPU en Google Colab, aunque yo he conseguido hacer 200 épocas de mi modelo en un tiempo razonable (menos de 1 hora).\n",
    "\n",
    "**RECUERDA GRABAR EL MODELO ENTRENADO PARA PODER REUTILIZARLO POSTERIORMENTE**"
   ]
  },
  {
   "cell_type": "markdown",
   "metadata": {
    "id": "kKkD5M6eoSiN"
   },
   "source": [
    "## 5. Genera texto y evalúa su calidad"
   ]
  },
  {
   "cell_type": "code",
   "execution_count": 122,
   "metadata": {},
   "outputs": [],
   "source": [
    "model = build_model(vocab_size, embedding_dim, rnn_units, batch_size=1)\n",
    "\n",
    "model.load_weights(tf.train.latest_checkpoint(checkpoint_dir))\n",
    "\n",
    "model.build(tf.TensorShape([1, None]))"
   ]
  },
  {
   "cell_type": "code",
   "execution_count": 123,
   "metadata": {},
   "outputs": [],
   "source": [
    "def generate_text(model, start_string):\n",
    "    \n",
    "    num_generate = 500\n",
    "    input_eval = [char2idx[s] for s in start_string]\n",
    "    \n",
    "    input_eval = tf.expand_dims(input_eval, 0)\n",
    "    text_generated = []\n",
    "    temperature = 0.5\n",
    "    \n",
    "    model.reset_states()\n",
    "    \n",
    "    for i in range(num_generate):\n",
    "        predictions = model(input_eval)\n",
    "        predictions = tf.squeeze(predictions, 0)\n",
    "        \n",
    "        predictions = predictions / temperature\n",
    "        predicted_id = tf.random.categorical(predictions, num_samples=1)[-1,0].numpy()\n",
    "        \n",
    "        input_eval = tf.expand_dims([predicted_id], 0)\n",
    "        \n",
    "        text_generated.append(idx2char[predicted_id])\n",
    "        \n",
    "    return (start_string + ''.join(text_generated))"
   ]
  },
  {
   "cell_type": "code",
   "execution_count": 124,
   "metadata": {},
   "outputs": [
    {
     "name": "stdout",
     "output_type": "stream",
     "text": [
      "Señor Abascal, es usted un facha fascistas españoles y al de muchos diputados de distintos grupos de esta Cámara dicientras palabras. Yo no le voy a pedir que me respete cuando usted no respeta ni a los jueces ni al jefenderal y usted diguila para su patrido nuestro país en ochenta años, el que ha provocado la mayor contracción del producto interior barrios para a pactar con Podemos y con los separatistas y por qué lo ha hecho justo al día siguiente de las electorel se findalmente exonómio e la fabricación de vehículos en España, la vo\n"
     ]
    }
   ],
   "source": [
    "print(generate_text(model, start_string=u\"Señor Abascal, es usted un facha fascista\"))\n"
   ]
  },
  {
   "cell_type": "markdown",
   "metadata": {
    "id": "Y4QwTjAM6A2O"
   },
   "source": [
    "## 6. Trabajo adicional\n",
    "\n",
    "Por ejempl, poner en cadena los tres modelos para que \"dialoguen\" entre sí"
   ]
  }
 ],
 "metadata": {
  "accelerator": "GPU",
  "colab": {
   "collapsed_sections": [],
   "name": "text_generation.ipynb",
   "toc_visible": true
  },
  "kernelspec": {
   "display_name": "Python 3 (ipykernel)",
   "language": "python",
   "name": "python3"
  },
  "language_info": {
   "codemirror_mode": {
    "name": "ipython",
    "version": 3
   },
   "file_extension": ".py",
   "mimetype": "text/x-python",
   "name": "python",
   "nbconvert_exporter": "python",
   "pygments_lexer": "ipython3",
   "version": "3.10.13"
  },
  "vscode": {
   "interpreter": {
    "hash": "d53d9c447d15846ca7228ba81a89f63b35afa7d922a1ed0608df97a83621769d"
   }
  }
 },
 "nbformat": 4,
 "nbformat_minor": 1
}
